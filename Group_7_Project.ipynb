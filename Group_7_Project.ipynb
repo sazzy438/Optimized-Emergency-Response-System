{
  "nbformat": 4,
  "nbformat_minor": 0,
  "metadata": {
    "colab": {
      "provenance": [],
      "collapsed_sections": [
        "cIlA6TGM_emt"
      ],
      "toc_visible": true
    },
    "kernelspec": {
      "name": "python3",
      "display_name": "Python 3"
    },
    "language_info": {
      "name": "python"
    }
  },
  "cells": [
    {
      "cell_type": "markdown",
      "source": [
        "# Data Generator [ No need to change anything here ]"
      ],
      "metadata": {
        "id": "cIlA6TGM_emt"
      }
    },
    {
      "cell_type": "markdown",
      "source": [
        "**Patient Data**"
      ],
      "metadata": {
        "id": "dp3PMWvj_ihs"
      }
    },
    {
      "cell_type": "code",
      "execution_count": null,
      "metadata": {
        "colab": {
          "base_uri": "https://localhost:8080/"
        },
        "id": "_zb969Nb8lkI",
        "outputId": "f27ea972-532d-4aa6-ed32-76bc137ca85a"
      },
      "outputs": [
        {
          "output_type": "stream",
          "name": "stdout",
          "text": [
            "Initial Patient Data in our Database:\n",
            "{'id': 1, 'severity': 10, 'location': (28, 0)}\n",
            "{'id': 2, 'severity': 2, 'location': (90, 80)}\n",
            "{'id': 3, 'severity': 1, 'location': (29, 8)}\n",
            "{'id': 4, 'severity': 1, 'location': (42, 9)}\n",
            "{'id': 5, 'severity': 9, 'location': (30, 35)}\n",
            "{'id': 6, 'severity': 8, 'location': (27, 69)}\n",
            "{'id': 7, 'severity': 3, 'location': (92, 73)}\n",
            "{'id': 8, 'severity': 10, 'location': (60, 31)}\n",
            "{'id': 9, 'severity': 8, 'location': (52, 24)}\n",
            "{'id': 10, 'severity': 2, 'location': (12, 84)}\n",
            "{'id': 11, 'severity': 7, 'location': (45, 54)}\n",
            "{'id': 12, 'severity': 7, 'location': (59, 93)}\n",
            "{'id': 13, 'severity': 1, 'location': (86, 83)}\n",
            "{'id': 14, 'severity': 2, 'location': (7, 51)}\n",
            "{'id': 15, 'severity': 6, 'location': (13, 31)}\n",
            "{'id': 16, 'severity': 4, 'location': (24, 68)}\n",
            "{'id': 17, 'severity': 8, 'location': (17, 54)}\n",
            "{'id': 18, 'severity': 3, 'location': (35, 59)}\n",
            "{'id': 19, 'severity': 4, 'location': (9, 56)}\n",
            "{'id': 20, 'severity': 9, 'location': (12, 6)}\n",
            "{'id': 21, 'severity': 9, 'location': (1, 11)}\n",
            "{'id': 22, 'severity': 4, 'location': (21, 52)}\n",
            "{'id': 23, 'severity': 8, 'location': (61, 27)}\n",
            "{'id': 24, 'severity': 7, 'location': (7, 21)}\n",
            "{'id': 25, 'severity': 7, 'location': (0, 49)}\n",
            "{'id': 26, 'severity': 5, 'location': (100, 100)}\n",
            "{'id': 27, 'severity': 8, 'location': (36, 54)}\n",
            "{'id': 28, 'severity': 9, 'location': (84, 91)}\n",
            "{'id': 29, 'severity': 8, 'location': (19, 24)}\n",
            "{'id': 30, 'severity': 5, 'location': (27, 7)}\n",
            "{'id': 31, 'severity': 10, 'location': (94, 69)}\n",
            "{'id': 32, 'severity': 1, 'location': (95, 40)}\n",
            "{'id': 33, 'severity': 1, 'location': (6, 74)}\n",
            "{'id': 34, 'severity': 8, 'location': (64, 67)}\n",
            "{'id': 35, 'severity': 3, 'location': (7, 65)}\n",
            "{'id': 36, 'severity': 2, 'location': (23, 8)}\n",
            "{'id': 37, 'severity': 10, 'location': (8, 86)}\n",
            "{'id': 38, 'severity': 4, 'location': (51, 15)}\n",
            "{'id': 39, 'severity': 10, 'location': (31, 74)}\n",
            "{'id': 40, 'severity': 10, 'location': (5, 79)}\n",
            "{'id': 41, 'severity': 2, 'location': (53, 84)}\n",
            "{'id': 42, 'severity': 10, 'location': (72, 66)}\n",
            "{'id': 43, 'severity': 6, 'location': (33, 26)}\n",
            "{'id': 44, 'severity': 6, 'location': (30, 33)}\n",
            "{'id': 45, 'severity': 7, 'location': (16, 85)}\n",
            "{'id': 46, 'severity': 5, 'location': (58, 40)}\n",
            "{'id': 47, 'severity': 2, 'location': (1, 58)}\n",
            "{'id': 48, 'severity': 10, 'location': (72, 12)}\n",
            "{'id': 49, 'severity': 2, 'location': (68, 27)}\n",
            "{'id': 50, 'severity': 9, 'location': (33, 16)}\n"
          ]
        }
      ],
      "source": [
        "import random\n",
        "import time\n",
        "\n",
        "# Demo Patient Data\n",
        "def generate_patient_data(num_patients):\n",
        "    \"\"\"Generates a list of patient records.\"\"\"\n",
        "    patients = []\n",
        "    for i in range(num_patients):\n",
        "        patient = {\n",
        "            \"id\" : i + 1,\n",
        "            \"severity\": random.randint(1, 10),\n",
        "            \"location\": (random.randint(0, 100), random.randint(0, 100))\n",
        "        }\n",
        "        patients.append(patient)\n",
        "    return patients\n",
        "\n",
        "patients = generate_patient_data(50)\n",
        "print(\"Initial Patient Data in our Database:\")\n",
        "for p in patients:\n",
        "    print(p)"
      ]
    },
    {
      "cell_type": "markdown",
      "source": [
        "**Hospital Data**"
      ],
      "metadata": {
        "id": "TEG8eF5L_nVf"
      }
    },
    {
      "cell_type": "code",
      "source": [
        "import math\n",
        "\n",
        "# Demo Hospital Data\n",
        "def generate_hospital_data(num_hospitals):\n",
        "\n",
        "    hospitals = []\n",
        "    for i in range(num_hospitals):\n",
        "        hospital = {\n",
        "            \"id\": i + 1,\n",
        "            \"location\": (random.randint(0, 100), random.randint(0, 100)), # 2D coordinates\n",
        "            \"beds\": random.randint(0, 5) # Available beds\n",
        "        }\n",
        "        hospitals.append(hospital)\n",
        "    return hospitals\n",
        "\n",
        "hospitals = generate_hospital_data(5)\n",
        "print(\"\\nHospital Data:\")\n",
        "for h in hospitals:\n",
        "    print(h)"
      ],
      "metadata": {
        "colab": {
          "base_uri": "https://localhost:8080/"
        },
        "id": "alKBtIWy_qOx",
        "outputId": "4f90941c-9dbe-4759-869b-1c8a30d5f8d3"
      },
      "execution_count": null,
      "outputs": [
        {
          "output_type": "stream",
          "name": "stdout",
          "text": [
            "\n",
            "Hospital Data:\n",
            "{'id': 1, 'location': (44, 8), 'beds': 1}\n",
            "{'id': 2, 'location': (47, 36), 'beds': 1}\n",
            "{'id': 3, 'location': (56, 69), 'beds': 5}\n",
            "{'id': 4, 'location': (38, 78), 'beds': 5}\n",
            "{'id': 5, 'location': (67, 1), 'beds': 5}\n"
          ]
        }
      ]
    },
    {
      "cell_type": "markdown",
      "source": [
        "**Ambulance Data**"
      ],
      "metadata": {
        "id": "3loeLfXcMevE"
      }
    },
    {
      "cell_type": "code",
      "source": [
        "# Let's assume there are 20 ambulances in the city,\n",
        "# with some currently available (\"free\") and others occupied transporting patients marked as (\"busy\").\n",
        "ambulances = []\n",
        "def generate_ambulance_data(num_ambulances= 20):\n",
        "    \"\"\"\n",
        "    Generates a list of ambulance records, representing a fleet.\n",
        "    \"\"\"\n",
        "\n",
        "    for i in range(num_ambulances):\n",
        "        # Let's assume some ambulances are free and some are busy.\n",
        "        status = random.choice(['free', 'free', 'busy']) # Making 'free' more likely\n",
        "        ambulance = {\n",
        "            \"id\": 100 + i, # Start IDs from 100 to avoid confusion\n",
        "            \"status\": status,\n",
        "            \"location\": (random.randint(0, 100), random.randint(0, 100)) # Their current GPS coordinates\n",
        "        }\n",
        "        ambulances.append(ambulance)\n",
        "    return ambulances\n",
        "\n",
        "ambulances = generate_ambulance_data()\n",
        "for i in range(len(ambulances)):\n",
        "  print(ambulances[i])"
      ],
      "metadata": {
        "colab": {
          "base_uri": "https://localhost:8080/"
        },
        "id": "lBpAgvQ3MhQx",
        "outputId": "a9753f27-9418-414e-e70e-046f0fb0e0fc"
      },
      "execution_count": null,
      "outputs": [
        {
          "output_type": "stream",
          "name": "stdout",
          "text": [
            "{'id': 100, 'status': 'busy', 'location': (38, 84)}\n",
            "{'id': 101, 'status': 'free', 'location': (17, 33)}\n",
            "{'id': 102, 'status': 'free', 'location': (13, 95)}\n",
            "{'id': 103, 'status': 'busy', 'location': (19, 34)}\n",
            "{'id': 104, 'status': 'free', 'location': (77, 26)}\n",
            "{'id': 105, 'status': 'busy', 'location': (43, 26)}\n",
            "{'id': 106, 'status': 'busy', 'location': (81, 33)}\n",
            "{'id': 107, 'status': 'busy', 'location': (62, 32)}\n",
            "{'id': 108, 'status': 'free', 'location': (11, 81)}\n",
            "{'id': 109, 'status': 'free', 'location': (35, 5)}\n",
            "{'id': 110, 'status': 'free', 'location': (42, 98)}\n",
            "{'id': 111, 'status': 'free', 'location': (81, 33)}\n",
            "{'id': 112, 'status': 'free', 'location': (94, 56)}\n",
            "{'id': 113, 'status': 'busy', 'location': (90, 54)}\n",
            "{'id': 114, 'status': 'busy', 'location': (1, 14)}\n",
            "{'id': 115, 'status': 'free', 'location': (88, 19)}\n",
            "{'id': 116, 'status': 'busy', 'location': (4, 47)}\n",
            "{'id': 117, 'status': 'busy', 'location': (70, 18)}\n",
            "{'id': 118, 'status': 'free', 'location': (16, 5)}\n",
            "{'id': 119, 'status': 'free', 'location': (46, 5)}\n"
          ]
        }
      ]
    },
    {
      "cell_type": "markdown",
      "source": [
        "**City Map Data**"
      ],
      "metadata": {
        "id": "zXanD7jDEHh2"
      }
    },
    {
      "cell_type": "code",
      "source": [
        "import heapq\n",
        "import math\n",
        "\n",
        "# In the real world, this data would be in separate files (like .csv or from a database).\n",
        "# To make this assignment easy to run, we are defining the data right here as\n",
        "# multi-line strings.\n",
        "\n",
        "# --- NODE DATA: The Intersections ---\n",
        "# Each line represents one location (an \"intersection\" or \"node\") in our city.\n",
        "# Format: Node_ID, X_Coordinate, Y_Coordinate\n",
        "\n",
        "NODE_DATA = \"\"\"\n",
        "  1,10,10\n",
        "  2,30,10\n",
        "  3,10,30\n",
        "  4,30,30\n",
        "  5,50,30\n",
        "  6,30,50\n",
        "  7,50,50\n",
        "  8,70,50\n",
        "  9,50,5\n",
        "\"\"\"\n",
        "\n",
        "# --- EDGE DATA: The Roads ---\n",
        "# Each line represents a road that connects two nodes.\n",
        "# 'Weight' is the cost to travel on that road (e.g., distance or time).\n",
        "# Format: Start_Node_ID, End_Node_ID, Weight\n",
        "\n",
        "EDGE_DATA = \"\"\"\n",
        "  1,2,20\n",
        "  1,3,22\n",
        "  2,4,20\n",
        "  2,9,25\n",
        "  3,4,10\n",
        "  4,5,25\n",
        "  4,6,30\n",
        "  5,7,15\n",
        "  5,9,18\n",
        "  6,7,10\n",
        "  7,8,20\n",
        "\n",
        "\"\"\""
      ],
      "metadata": {
        "id": "noTEjR7qEKyO"
      },
      "execution_count": null,
      "outputs": []
    },
    {
      "cell_type": "markdown",
      "source": [
        "# Milestone - 1"
      ],
      "metadata": {
        "id": "FVO4LQK7-1zj"
      }
    },
    {
      "cell_type": "code",
      "source": [
        "import math\n",
        "import heapq\n",
        "import time"
      ],
      "metadata": {
        "id": "U7vrstvewLcp"
      },
      "execution_count": null,
      "outputs": []
    },
    {
      "cell_type": "code",
      "source": [
        "\"\"\"\n",
        "Sorts a list of patient records based on their severity level.\n",
        "\n",
        "The list is sorted in descending order, placing patients with the highest severity at the beginning of the list.\n",
        "\n",
        "  Args:\n",
        "      patients (list): A list of patient dictionaries to be sorted.\n",
        "\n",
        "  Returns:\n",
        "      list: A new list containing the patient dictionaries sorted by severity.\n",
        "\n",
        "\"\"\"\n",
        "def sort(patients):\n",
        "    def _merge_severity_desc(left, right):\n",
        "        out, i, j = [], 0, 0\n",
        "        while i < len(left) and j < len(right):\n",
        "            if left[i]['severity'] >= right[j]['severity']:\n",
        "                out.append(left[i]); i += 1\n",
        "            else:\n",
        "                out.append(right[j]); j += 1\n",
        "        out.extend(left[i:]); out.extend(right[j:])\n",
        "        return out\n",
        "\n",
        "    n = len(patients)\n",
        "    if n <= 1:\n",
        "        return patients\n",
        "    mid = n // 2\n",
        "    left = sort(patients[:mid])\n",
        "    right = sort(patients[mid:])\n",
        "    return _merge_severity_desc(left, right)\n",
        "\n",
        "\n",
        "    return patients"
      ],
      "metadata": {
        "id": "QXV9A-pP9YGx"
      },
      "execution_count": null,
      "outputs": []
    },
    {
      "cell_type": "code",
      "source": [
        "\"\"\"\n",
        "Efficiently finds all patients matching a specific severity score.\n",
        "\n",
        "This function uses a binary search approach on a pre-sorted list of patients to quickly locate and return all records that match the target severity.\n",
        "\n",
        "  Args:\n",
        "      sorted_patients (list): A list of patient dictionaries, pre-sorted\n",
        "                                by severity.\n",
        "      target_severity (int): The severity score to search for.\n",
        "\n",
        "  Returns:\n",
        "      list: A list containing all patient dictionaries that match the target severity. Returns an empty list if no match is found.\n",
        "\n",
        "\"\"\"\n",
        "\n",
        "def search_severity(sorted_patients, target_severity):\n",
        "    found_patients = []\n",
        "    low, high = 0, len(sorted_patients) - 1\n",
        "\n",
        "    while low <= high:\n",
        "        mid = (low + high) // 2\n",
        "        sev = sorted_patients[mid]['severity']\n",
        "        if sev == target_severity:\n",
        "            # collecting mid + neighbors with same severity\n",
        "            found_patients.append(sorted_patients[mid])\n",
        "            l, r = mid - 1, mid + 1\n",
        "            while l >= 0 and sorted_patients[l]['severity'] == target_severity:\n",
        "                found_patients.append(sorted_patients[l]); l -= 1\n",
        "            while r < len(sorted_patients) and sorted_patients[r]['severity'] == target_severity:\n",
        "                found_patients.append(sorted_patients[r]); r += 1\n",
        "            break\n",
        "        elif sev < target_severity:\n",
        "            high = mid - 1\n",
        "        else:\n",
        "            low = mid + 1\n",
        "\n",
        "    return found_patients\n"
      ],
      "metadata": {
        "id": "eDVXj_UW96so"
      },
      "execution_count": null,
      "outputs": []
    },
    {
      "cell_type": "markdown",
      "source": [
        "# Milestone - 2"
      ],
      "metadata": {
        "id": "I-dfoRuJAB2V"
      }
    },
    {
      "cell_type": "code",
      "source": [
        "def calculate_distance(point1, point2):\n",
        "    \"\"\"Calculates the Euclidean distance between two points.\"\"\"\n",
        "   # Accepts (x,y) tuples or dicts with 'location' / 'x','y'\n",
        "    def _xy(p):\n",
        "        if isinstance(p, dict):\n",
        "            if 'location' in p: return p['location']\n",
        "            return (p.get('x'), p.get('y'))\n",
        "        return p\n",
        "    (x1, y1) = _xy(point1)\n",
        "    (x2, y2) = _xy(point2)\n",
        "    return math.hypot(x2 - x1, y2 - y1)\n",
        "def find_nearest_available_hospital(patient, hospitals):\n",
        "    \"\"\"Finds the nearest hospital with available beds for a given patient.\"\"\"\n",
        "    # Accepts (x,y) tuples or dicts with 'location' / 'x','y'\n",
        "    def _xy(p):\n",
        "        if isinstance(p, dict):\n",
        "            if 'location' in p: return p['location']\n",
        "            return (p.get('x'), p.get('y'))\n",
        "        return p\n",
        "    (x1, y1) = _xy(point1) #type: ignore\n",
        "    (x2, y2) = _xy(point2) #type: ignore\n",
        "    return math.hypot(x2 - x1, y2 - y1)\n",
        "\n",
        "\n",
        "def find_nearest_available_hospital(patient, hospitals):\n",
        "    \"\"\"Finds the nearest hospital with available beds for a given patient.\"\"\"\n",
        "    def _xy(p):\n",
        "        if isinstance(p, dict):\n",
        "            if 'location' in p: return p['location']\n",
        "            return (p.get('x'), p.get('y'))\n",
        "        return p\n",
        "\n",
        "    px, py = _xy(patient)\n",
        "    closest_hospital = None\n",
        "    min_distance = float('inf')\n",
        "\n",
        "    for h in hospitals:\n",
        "        beds = h.get('available_beds', h.get('beds', 0))  # handle either key\n",
        "        if beds > 0:\n",
        "            dist = calculate_distance((px, py), h)\n",
        "            if dist < min_distance:\n",
        "                min_distance = dist\n",
        "                closest_hospital = h\n",
        "\n",
        "    return closest_hospital, min_distance\n"
      ],
      "metadata": {
        "id": "ptLM2c_6AEBu"
      },
      "execution_count": null,
      "outputs": []
    },
    {
      "cell_type": "markdown",
      "source": [
        "# Milestone - 3"
      ],
      "metadata": {
        "id": "id4RIkUCCYcl"
      }
    },
    {
      "cell_type": "code",
      "source": [
        "# This function is already implemented for you.\n",
        "# So no need to change but you can modify if you want.\n",
        "\n",
        "def load_graph_from_data(node_str, edge_str):\n",
        "    \"\"\"Parses string data to build the city graph and a node coordinate mapping. No need to change here\"\"\"\n",
        "    node_coords = {}\n",
        "    for line in node_str.strip().split('\\n'):\n",
        "        parts = line.split(',')\n",
        "        node_id, x, y = int(parts[0]), int(parts[1]), int(parts[2])\n",
        "        node_coords[node_id] = (x, y)\n",
        "\n",
        "    graph = {node_id: [] for node_id in node_coords}\n",
        "    for line in edge_str.strip().split('\\n'):\n",
        "        parts = line.split(',')\n",
        "        u, v, weight = int(parts[0]), int(parts[1]), int(parts[2])\n",
        "        graph[u].append((v, weight))\n",
        "        graph[v].append((u, weight)) # Assuming roads are two-way\n",
        "    return graph, node_coords"
      ],
      "metadata": {
        "id": "HgCB9Tx7At1Z"
      },
      "execution_count": null,
      "outputs": []
    },
    {
      "cell_type": "code",
      "source": [
        "def find_nearest_node(point_coord, node_coords):\n",
        "    \"\"\"Finds the ID of the nearest graph node to an arbitrary (x, y) point.\"\"\"\n",
        "    if isinstance(point_coord, dict):\n",
        "        if 'location' in point_coord:\n",
        "            px, py = point_coord['location']\n",
        "        else:\n",
        "            px, py = point_coord.get('x'), point_coord.get('y')\n",
        "    else:\n",
        "        px, py = point_coord\n",
        "\n",
        "    nearest_node_id, best_dist = None, float('inf')\n",
        "    for nid, (nx, ny) in node_coords.items():\n",
        "        d = math.hypot(nx - px, ny - py)\n",
        "        if d < best_dist:\n",
        "            best_dist = d\n",
        "            nearest_node_id = nid\n",
        "    return nearest_node_id\n",
        "\n",
        "\n",
        "def find_best_ambulance(patient, ambulance_fleet):\n",
        "    \"\"\"Finds the best available ambulance for a given patient.\"\"\"\n",
        "    # patient may have 'location' or 'x','y'\n",
        "    if 'location' in patient:\n",
        "        px, py = patient['location']\n",
        "    else:\n",
        "        px, py = patient.get('x'), patient.get('y')\n",
        "\n",
        "    closest_ambulance, best_dist = None, float('inf')\n",
        "\n",
        "    for amb in ambulance_fleet:\n",
        "        # Treat 'status' == 'free' or boolean 'available' == True as available\n",
        "        status = amb.get('status', '').lower()\n",
        "        available_flag = amb.get('available', status == 'free' or status == 'available')\n",
        "        if not available_flag:\n",
        "            continue\n",
        "\n",
        "        if 'location' in amb:\n",
        "            ax, ay = amb['location']\n",
        "        else:\n",
        "            ax, ay = amb.get('x'), amb.get('y')\n",
        "        if ax is None or ay is None:\n",
        "            continue\n",
        "\n",
        "        d = math.hypot(ax - px, ay - py)\n",
        "        if d < best_dist:\n",
        "            best_dist = d\n",
        "            closest_ambulance = amb\n",
        "\n",
        "    return closest_ambulance\n",
        "\n",
        "\n",
        "\n",
        "# --- CORE ALGORITHMS ---\n",
        "\n",
        "def find_shortest_path(graph, start_node, end_node):\n",
        "    \"\"\"Finds the shortest path using Dijkstra's algorithm.\"\"\"\n",
        "    # Edge cases\n",
        "    if start_node == end_node:\n",
        "        return [start_node], 0\n",
        "    if start_node not in graph or end_node not in graph:\n",
        "        return [], float('inf')\n",
        "\n",
        "    dist = {n: float('inf') for n in graph}\n",
        "    prev = {n: None for n in graph}\n",
        "    dist[start_node] = 0\n",
        "\n",
        "    pq = [(0, start_node)]  # (distance, node)\n",
        "    while pq:\n",
        "        cur_d, u = heapq.heappop(pq)\n",
        "        if cur_d > dist[u]:\n",
        "            continue\n",
        "        if u == end_node:\n",
        "            break\n",
        "        for v, w in graph[u]:\n",
        "            nd = cur_d + w\n",
        "            if nd < dist[v]:\n",
        "                dist[v] = nd\n",
        "                prev[v] = u\n",
        "                heapq.heappush(pq, (nd, v))\n",
        "\n",
        "    if dist[end_node] == float('inf'):\n",
        "        return [], float('inf')\n",
        "\n",
        "    # Reconstruct path\n",
        "    path = []\n",
        "    cur = end_node\n",
        "    while cur is not None:\n",
        "        path.append(cur)\n",
        "        cur = prev[cur]\n",
        "    path.reverse()\n",
        "    return path, dist[end_node]"
      ],
      "metadata": {
        "id": "UUvbiGF7CcEh"
      },
      "execution_count": null,
      "outputs": []
    },
    {
      "cell_type": "markdown",
      "source": [
        "# Execuation"
      ],
      "metadata": {
        "id": "b0PNk-MQr5CX"
      }
    },
    {
      "cell_type": "code",
      "source": [
        "## Load the city's road network data [No need to change anythng]\n",
        "city_graph, node_coordinates = load_graph_from_data(NODE_DATA, EDGE_DATA)\n",
        "print(\"--- Real-World Ambulance Dispatch Simulation ---\")\n",
        "print(\"City road network loaded successfully.\")\n"
      ],
      "metadata": {
        "colab": {
          "base_uri": "https://localhost:8080/"
        },
        "id": "1rVdhEpLV3j3",
        "outputId": "b59a3410-15e7-425d-aef4-37c7fff36a5e"
      },
      "execution_count": null,
      "outputs": [
        {
          "output_type": "stream",
          "name": "stdout",
          "text": [
            "--- Real-World Ambulance Dispatch Simulation ---\n",
            "City road network loaded successfully.\n"
          ]
        }
      ]
    },
    {
      "cell_type": "code",
      "source": [
        "# Milestone - 1\n",
        "print(50*\"*\")\n",
        "sorted_patient = sort(patients)\n",
        "print(\"Here is the Sorted Patient Data based on severity :\\n\")\n",
        "for p in sorted_patient[:10]:\n",
        "    print(p)\n",
        "print(50*\"*\")\n",
        "print(50*\"*\")\n",
        "print(\"Enter the severity level you want to search for in between 1 to 10\")\n",
        "print(\"Here, 10 is the most severity level and 1 is the less\")\n",
        "print(50*\"*\")\n",
        "target = int(input(\"Enter Please : \"))\n",
        "print(50*\"*\")\n",
        "print(f\"\\n--- Searching for patients with severity {target} ---\")\n",
        "results = search_severity(sorted_patient, target)\n",
        "\n",
        "if results:\n",
        "    print(f\"Found {len(results)} patients with severity {target}:\")\n",
        "    for p in results:\n",
        "        print(p)\n",
        "else:\n",
        "    print(f\"No patients found with severity {target}.\")\n",
        "\n",
        "print(50*\"*\")\n",
        "\n",
        "# Milestone - 2\n",
        "\n",
        "patient_id = input(\"Please enter the ID of the high-priority patient for whom you want to allocate a hospital: \")\n",
        "high_priority_patient = next((p for p in sorted_patient if str(p['id']) == patient_id), None)\n",
        "\n",
        "\n",
        "print(50*\"*\")\n",
        "print(f\"\\n--- Finding nearest hospital for Patient {high_priority_patient['id']} at {high_priority_patient['location']} ---\")\n",
        "\n",
        "closest_hospital, distance = find_nearest_available_hospital(high_priority_patient, hospitals)\n",
        "\n",
        "if closest_hospital:\n",
        "    print(f\"Closest Hospital ID: {closest_hospital['id']} at Location {closest_hospital['location']}\")\n",
        "    print(f\"Distance from the Patient: {distance:.2f} KM\")\n",
        "    print(f\"Available Beds: {closest_hospital['beds']}\")\n",
        "else:\n",
        "    print(\"Could not find an available hospital.\")\n",
        "\n",
        "best_ambulance = find_best_ambulance(high_priority_patient, ambulances)\n",
        "\n",
        "print(50*\"*\")\n",
        "print(\"Do you want to see all the available ambulances near by ? if yes eneter 'y' and enter 'n' \")\n",
        "ambulance = input()\n",
        "if ambulance == 'y':\n",
        "  print(50*\"*\")\n",
        "  print(\"All the available ambulances : \")\n",
        "  for i in range(len(ambulances)):\n",
        "      if ambulances[i][\"status\"] == \"free\":\n",
        "        print(f\"Ambulance {ambulances[i]['id']} is available at location {ambulances[i]['location']}\")\n",
        "\n",
        "  print(50*\"*\")\n",
        "\n",
        "  ambulance_coordinates = best_ambulance['location']\n",
        "  patient_coordinates = high_priority_patient['location']\n",
        "  hospital_coordinates = closest_hospital['location']\n",
        "\n",
        "\n",
        "  ambulance_start_node = find_nearest_node(ambulance_coordinates, node_coordinates)\n",
        "  patient_node = find_nearest_node(patient_coordinates, node_coordinates)\n",
        "  hospital_node = find_nearest_node(hospital_coordinates, node_coordinates)\n",
        "\n",
        "  print(\"\\nMapping locations to nearest road network intersections...\")\n",
        "  print(f\"  - Ambulance Depot -> Node {ambulance_start_node}\")\n",
        "  print(f\"  - Patient Pickup  -> Node {patient_node}\")\n",
        "  print(f\"  - Hospital        -> Node {hospital_node}\")\n",
        "\n",
        "  # Milestone - 3\n",
        "  print(\"\\nCalculating optimal routes...\")\n",
        "  path_to_patient, dist_to_patient = find_shortest_path(city_graph, ambulance_start_node, patient_node)\n",
        "  path_to_hospital, dist_to_hospital = find_shortest_path(city_graph, patient_node, hospital_node)\n",
        "\n",
        "\n",
        "  print(f\"\\nRoute 1: Ambulance Dispatch Route to Patient\")\n",
        "  print(f\"  - Path: {' -> '.join(map(str, path_to_patient))}\")\n",
        "  print(f\"  - Distance: {dist_to_patient} units\")\n",
        "\n",
        "  print(f\"\\nRoute 2: Patient to Hospital\")\n",
        "  print(f\"  - Path: {' -> '.join(map(str, path_to_hospital))}\")\n",
        "  print(f\"  - Distance: {dist_to_hospital} units\")\n",
        "\n",
        "  print(\"\\n--- Dispatch Summary ---\")\n",
        "  print(f\"Total estimated travel distance: {dist_to_patient + dist_to_hospital} units\")\n",
        "\n",
        "elif ambulance == 'n':\n",
        "  print(\"Thank you for using our service\")\n"
      ],
      "metadata": {
        "id": "B6j7Ogssl5MK",
        "colab": {
          "base_uri": "https://localhost:8080/"
        },
        "outputId": "44d666ac-6120-48bf-b282-ddb259b0323a"
      },
      "execution_count": null,
      "outputs": [
        {
          "output_type": "stream",
          "name": "stdout",
          "text": [
            "**************************************************\n",
            "Here is the Sorted Patient Data based on severity :\n",
            "\n",
            "{'id': 1, 'severity': 10, 'location': (28, 0)}\n",
            "{'id': 8, 'severity': 10, 'location': (60, 31)}\n",
            "{'id': 31, 'severity': 10, 'location': (94, 69)}\n",
            "{'id': 37, 'severity': 10, 'location': (8, 86)}\n",
            "{'id': 39, 'severity': 10, 'location': (31, 74)}\n",
            "{'id': 40, 'severity': 10, 'location': (5, 79)}\n",
            "{'id': 42, 'severity': 10, 'location': (72, 66)}\n",
            "{'id': 48, 'severity': 10, 'location': (72, 12)}\n",
            "{'id': 5, 'severity': 9, 'location': (30, 35)}\n",
            "{'id': 20, 'severity': 9, 'location': (12, 6)}\n",
            "**************************************************\n",
            "**************************************************\n",
            "Enter the severity level you want to search for in between 1 to 10\n",
            "Here, 10 is the most severity level and 1 is the less\n",
            "**************************************************\n",
            "Enter Please : 10\n",
            "**************************************************\n",
            "\n",
            "--- Searching for patients with severity 10 ---\n",
            "Found 8 patients with severity 10:\n",
            "{'id': 40, 'severity': 10, 'location': (5, 79)}\n",
            "{'id': 39, 'severity': 10, 'location': (31, 74)}\n",
            "{'id': 37, 'severity': 10, 'location': (8, 86)}\n",
            "{'id': 31, 'severity': 10, 'location': (94, 69)}\n",
            "{'id': 8, 'severity': 10, 'location': (60, 31)}\n",
            "{'id': 1, 'severity': 10, 'location': (28, 0)}\n",
            "{'id': 42, 'severity': 10, 'location': (72, 66)}\n",
            "{'id': 48, 'severity': 10, 'location': (72, 12)}\n",
            "**************************************************\n",
            "Please enter the ID of the high-priority patient for whom you want to allocate a hospital: 1\n",
            "**************************************************\n",
            "\n",
            "--- Finding nearest hospital for Patient 1 at (28, 0) ---\n",
            "Closest Hospital ID: 1 at Location (44, 8)\n",
            "Distance from the Patient: 17.89 KM\n",
            "Available Beds: 1\n",
            "**************************************************\n",
            "Do you want to see all the available ambulances near by ? if yes eneter 'y' and enter 'n' \n",
            "y\n",
            "**************************************************\n",
            "All the available ambulances : \n",
            "Ambulance 101 is available at location (17, 33)\n",
            "Ambulance 102 is available at location (13, 95)\n",
            "Ambulance 104 is available at location (77, 26)\n",
            "Ambulance 108 is available at location (11, 81)\n",
            "Ambulance 109 is available at location (35, 5)\n",
            "Ambulance 110 is available at location (42, 98)\n",
            "Ambulance 111 is available at location (81, 33)\n",
            "Ambulance 112 is available at location (94, 56)\n",
            "Ambulance 115 is available at location (88, 19)\n",
            "Ambulance 118 is available at location (16, 5)\n",
            "Ambulance 119 is available at location (46, 5)\n",
            "**************************************************\n",
            "\n",
            "Mapping locations to nearest road network intersections...\n",
            "  - Ambulance Depot -> Node 2\n",
            "  - Patient Pickup  -> Node 2\n",
            "  - Hospital        -> Node 9\n",
            "\n",
            "Calculating optimal routes...\n",
            "\n",
            "Route 1: Ambulance Dispatch Route to Patient\n",
            "  - Path: 2\n",
            "  - Distance: 0 units\n",
            "\n",
            "Route 2: Patient to Hospital\n",
            "  - Path: 2 -> 9\n",
            "  - Distance: 25 units\n",
            "\n",
            "--- Dispatch Summary ---\n",
            "Total estimated travel distance: 25 units\n"
          ]
        }
      ]
    },
    {
      "cell_type": "markdown",
      "source": [
        "# Test Cases"
      ],
      "metadata": {
        "id": "cOSDqEwXdWST"
      }
    },
    {
      "cell_type": "markdown",
      "source": [
        "**Just run this section without making any changes. If your algorithm is correctly implemented, your outputs should match the outputs provided below.**"
      ],
      "metadata": {
        "id": "7vY0P67EgyVT"
      }
    },
    {
      "cell_type": "code",
      "source": [
        "import random\n",
        "import time\n",
        "import heapq\n",
        "import math\n",
        "\n",
        "random.seed(42)\n",
        "\n",
        "def generate_patient_data(num_patients):\n",
        "    \"\"\"Generates a list of patient records.\"\"\"\n",
        "    patients = []\n",
        "    for i in range(num_patients):\n",
        "        patient = {\n",
        "            \"id\" : i + 1,\n",
        "            \"severity\": random.randint(1, 10),\n",
        "            \"location\": (random.randint(0, 100), random.randint(0, 100))\n",
        "        }\n",
        "        patients.append(patient)\n",
        "    return patients\n",
        "\n",
        "patients = generate_patient_data(50)\n",
        "\n",
        "def generate_hospital_data(num_hospitals):\n",
        "\n",
        "    hospitals = []\n",
        "    for i in range(num_hospitals):\n",
        "        hospital = {\n",
        "            \"id\": i + 1,\n",
        "            \"location\": (random.randint(0, 100), random.randint(0, 100)), # 2D coordinates\n",
        "            \"beds\": random.randint(0, 5) # Available beds\n",
        "        }\n",
        "        hospitals.append(hospital)\n",
        "    return hospitals\n",
        "\n",
        "hospitals = generate_hospital_data(10)\n",
        "\n",
        "\n",
        "ambulances = []\n",
        "def generate_ambulance_data(num_ambulances= 20):\n",
        "    \"\"\"\n",
        "    Generates a list of ambulance records, representing a fleet.\n",
        "    \"\"\"\n",
        "\n",
        "    for i in range(num_ambulances):\n",
        "        # Let's assume some ambulances are free and some are busy.\n",
        "        status = random.choice(['free', 'free', 'busy']) # Making 'free' more likely\n",
        "        ambulance = {\n",
        "            \"id\": 100 + i, # Start IDs from 100 to avoid confusion\n",
        "            \"status\": status,\n",
        "            \"location\": (random.randint(0, 100), random.randint(0, 100)) # Their current GPS coordinates\n",
        "        }\n",
        "        ambulances.append(ambulance)\n",
        "    return ambulances\n",
        "\n",
        "ambulances = generate_ambulance_data()\n",
        "\n",
        "\n",
        "NODE_DATA = \"\"\"\n",
        "  1,10,10\n",
        "  2,30,10\n",
        "  3,10,30\n",
        "  4,30,30\n",
        "  5,50,30\n",
        "  6,30,50\n",
        "  7,50,50\n",
        "  8,70,50\n",
        "  9,50,5\n",
        "  10,70,10\n",
        "  11,90,10\n",
        "  12,90,30\n",
        "  13,70,30\n",
        "  14,90,50\n",
        "  15,90,70\n",
        "  16,70,70\n",
        "  17,50,70\n",
        "  18,30,70\n",
        "  19,10,70\n",
        "  20,10,50\n",
        "\"\"\"\n",
        "\n",
        "EDGE_DATA = \"\"\"\n",
        "  1,2,20\n",
        "  1,3,22\n",
        "  2,4,20\n",
        "  2,9,25\n",
        "  3,4,10\n",
        "  4,5,25\n",
        "  4,6,30\n",
        "  5,7,15\n",
        "  5,9,18\n",
        "  6,7,10\n",
        "  7,8,20\n",
        "  8,10,22\n",
        "  9,10,30\n",
        "  10,11,20\n",
        "  11,12,18\n",
        "  12,13,12\n",
        "  13,5,14\n",
        "  12,14,16\n",
        "  14,15,18\n",
        "  15,16,10\n",
        "  16,17,12\n",
        "  17,18,14\n",
        "  18,6,20\n",
        "  18,19,15\n",
        "  19,20,10\n",
        "  20,3,25\n",
        "\"\"\"\n",
        "\n",
        "city_graph, node_coordinates = load_graph_from_data(NODE_DATA, EDGE_DATA)\n",
        "print(\"--- Real-World Ambulance Dispatch Simulation ---\")\n",
        "print(\"City road network loaded successfully.\")\n"
      ],
      "metadata": {
        "id": "-T7xfEzZdZIi",
        "colab": {
          "base_uri": "https://localhost:8080/"
        },
        "outputId": "19cf7863-e479-4f6c-fb1c-f2a6597b1fed"
      },
      "execution_count": null,
      "outputs": [
        {
          "output_type": "stream",
          "name": "stdout",
          "text": [
            "--- Real-World Ambulance Dispatch Simulation ---\n",
            "City road network loaded successfully.\n"
          ]
        }
      ]
    },
    {
      "cell_type": "markdown",
      "source": [
        "**Test Case -1**\n",
        "\n",
        "For testing your project just run the code below, no modifications is needed. If all functions are correctly implemented, your output should match exactly like this :\n",
        "\n",
        "![test case-1.png](data:image/png;base64,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)"
      ],
      "metadata": {
        "id": "fh9gZp7ydoTZ"
      }
    },
    {
      "cell_type": "code",
      "source": [
        "# Test Case -1\n",
        "# Simply run this code and compare the output with the one shown above.\n",
        "\n",
        "sorted_patient = sort(patients)\n",
        "target = 10\n",
        "results = search_severity(sorted_patient, target)\n",
        "\n",
        "patient_id = results[0]['id']\n",
        "high_priority_patient = next((p for p in sorted_patient if p['id'] == patient_id), None)\n",
        "\n",
        "\n",
        "closest_hospital, distance = find_nearest_available_hospital(high_priority_patient, hospitals)\n",
        "\n",
        "best_ambulance = find_best_ambulance(high_priority_patient, ambulances)\n",
        "\n",
        "ambulance_coordinates = best_ambulance['location']\n",
        "patient_coordinates = high_priority_patient['location']\n",
        "hospital_coordinates = closest_hospital['location']\n",
        "\n",
        "ambulance_start_node = find_nearest_node(ambulance_coordinates, node_coordinates)\n",
        "patient_node = find_nearest_node(patient_coordinates, node_coordinates)\n",
        "hospital_node = find_nearest_node(hospital_coordinates, node_coordinates)\n",
        "\n",
        "print(f\"\\n--- High priority patient ID {high_priority_patient['id']} at location {high_priority_patient['location']} ---\")\n",
        "print()\n",
        "print(f\"Closest Hospital ID: {closest_hospital['id']} at Location {closest_hospital['location']}\")\n",
        "print(f\"Distance from the Patient: {distance:.2f} km\")\n",
        "print(f\"Available Beds in that hospital: {closest_hospital['beds']}\")\n",
        "\n",
        "print(\"\\nMapping locations to nearest road network intersections...\")\n",
        "print(f\"  - Ambulance Depot -> Node {ambulance_start_node}\")\n",
        "print(f\"  - Patient Pickup  -> Node {patient_node}\")\n",
        "print(f\"  - Hospital        -> Node {hospital_node}\")\n",
        "\n",
        "print(\"\\nCalculating optimal routes...\")\n",
        "path_to_patient, dist_to_patient = find_shortest_path(city_graph, ambulance_start_node, patient_node)\n",
        "path_to_hospital, dist_to_hospital = find_shortest_path(city_graph, patient_node, hospital_node)\n",
        "\n",
        "\n",
        "print(f\"\\nRoute 1: Ambulance Dispatch Route to Patient\")\n",
        "print(f\"  - Path: {' -> '.join(map(str, path_to_patient))}\")\n",
        "print(f\"  - Distance: {dist_to_patient} km\")\n",
        "\n",
        "print(f\"\\nRoute 2: Patient to Hospital\")\n",
        "print(f\"  - Path: {' -> '.join(map(str, path_to_hospital))}\")\n",
        "print(f\"  - Distance: {dist_to_hospital} km\")\n",
        "\n",
        "print(\"\\n--- Dispatch Summary ---\")\n",
        "print(f\"Total estimated travel distance: {dist_to_patient + dist_to_hospital} km\")"
      ],
      "metadata": {
        "id": "pVBmXpzlddrR",
        "colab": {
          "base_uri": "https://localhost:8080/"
        },
        "outputId": "9c85e33d-ba2c-4c98-c9b0-db346e1d866a"
      },
      "execution_count": null,
      "outputs": [
        {
          "output_type": "stream",
          "name": "stdout",
          "text": [
            "\n",
            "--- High priority patient ID 48 at location (8, 49) ---\n",
            "\n",
            "Closest Hospital ID: 7 at Location (33, 64)\n",
            "Distance from the Patient: 29.15 km\n",
            "Available Beds in that hospital: 1\n",
            "\n",
            "Mapping locations to nearest road network intersections...\n",
            "  - Ambulance Depot -> Node 4\n",
            "  - Patient Pickup  -> Node 20\n",
            "  - Hospital        -> Node 18\n",
            "\n",
            "Calculating optimal routes...\n",
            "\n",
            "Route 1: Ambulance Dispatch Route to Patient\n",
            "  - Path: 4 -> 3 -> 20\n",
            "  - Distance: 35 km\n",
            "\n",
            "Route 2: Patient to Hospital\n",
            "  - Path: 20 -> 19 -> 18\n",
            "  - Distance: 25 km\n",
            "\n",
            "--- Dispatch Summary ---\n",
            "Total estimated travel distance: 60 km\n"
          ]
        }
      ]
    },
    {
      "cell_type": "markdown",
      "source": [
        "**Test Case -2**\n",
        "\n",
        "For testing your project just run the code below, no modifications is needed. If all functions are correctly implemented, your output should match exactly like this :\n",
        "\n",
        "![test case-2.png](data:image/png;base64,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)"
      ],
      "metadata": {
        "id": "xO757anXfXi9"
      }
    },
    {
      "cell_type": "code",
      "source": [
        "# Test Case -2\n",
        "# Simply run this code and compare the output with the one shown above.\n",
        "\n",
        "sorted_patient = sort(patients)\n",
        "target = 5\n",
        "results = search_severity(sorted_patient, target)\n",
        "\n",
        "patient_id = results[0]['id']\n",
        "high_priority_patient = next((p for p in sorted_patient if p['id'] == patient_id), None)\n",
        "\n",
        "\n",
        "closest_hospital, distance = find_nearest_available_hospital(high_priority_patient, hospitals)\n",
        "\n",
        "best_ambulance = find_best_ambulance(high_priority_patient, ambulances)\n",
        "\n",
        "ambulance_coordinates = best_ambulance['location']\n",
        "patient_coordinates = high_priority_patient['location']\n",
        "hospital_coordinates = closest_hospital['location']\n",
        "\n",
        "ambulance_start_node = find_nearest_node(ambulance_coordinates, node_coordinates)\n",
        "patient_node = find_nearest_node(patient_coordinates, node_coordinates)\n",
        "hospital_node = find_nearest_node(hospital_coordinates, node_coordinates)\n",
        "\n",
        "print(f\"\\n--- High priority patient ID {high_priority_patient['id']} at location {high_priority_patient['location']} ---\")\n",
        "print()\n",
        "print(f\"Closest Hospital ID: {closest_hospital['id']} at Location {closest_hospital['location']}\")\n",
        "print(f\"Distance from the Patient: {distance:.2f} km\")\n",
        "print(f\"Available Beds in that hospital: {closest_hospital['beds']}\")\n",
        "\n",
        "print(\"\\nMapping locations to nearest road network intersections...\")\n",
        "print(f\"  - Ambulance Depot -> Node {ambulance_start_node}\")\n",
        "print(f\"  - Patient Pickup  -> Node {patient_node}\")\n",
        "print(f\"  - Hospital        -> Node {hospital_node}\")\n",
        "\n",
        "print(\"\\nCalculating optimal routes...\")\n",
        "path_to_patient, dist_to_patient = find_shortest_path(city_graph, ambulance_start_node, patient_node)\n",
        "path_to_hospital, dist_to_hospital = find_shortest_path(city_graph, patient_node, hospital_node)\n",
        "\n",
        "\n",
        "print(f\"\\nRoute 1: Ambulance Dispatch Route to Patient\")\n",
        "print(f\"  - Path: {' -> '.join(map(str, path_to_patient))}\")\n",
        "print(f\"  - Distance: {dist_to_patient} km\")\n",
        "\n",
        "print(f\"\\nRoute 2: Patient to Hospital\")\n",
        "print(f\"  - Path: {' -> '.join(map(str, path_to_hospital))}\")\n",
        "print(f\"  - Distance: {dist_to_hospital} km\")\n",
        "\n",
        "print(\"\\n--- Dispatch Summary ---\")\n",
        "print(f\"Total estimated travel distance: {dist_to_patient + dist_to_hospital} km\")"
      ],
      "metadata": {
        "id": "7J4o0jvgfu9c",
        "colab": {
          "base_uri": "https://localhost:8080/"
        },
        "outputId": "c369fa2f-b33c-4d65-a108-d283ecdedba4"
      },
      "execution_count": null,
      "outputs": [
        {
          "output_type": "stream",
          "name": "stdout",
          "text": [
            "\n",
            "--- High priority patient ID 23 at location (10, 29) ---\n",
            "\n",
            "Closest Hospital ID: 4 at Location (43, 14)\n",
            "Distance from the Patient: 36.25 km\n",
            "Available Beds in that hospital: 2\n",
            "\n",
            "Mapping locations to nearest road network intersections...\n",
            "  - Ambulance Depot -> Node 1\n",
            "  - Patient Pickup  -> Node 3\n",
            "  - Hospital        -> Node 9\n",
            "\n",
            "Calculating optimal routes...\n",
            "\n",
            "Route 1: Ambulance Dispatch Route to Patient\n",
            "  - Path: 1 -> 3\n",
            "  - Distance: 22 km\n",
            "\n",
            "Route 2: Patient to Hospital\n",
            "  - Path: 3 -> 4 -> 5 -> 9\n",
            "  - Distance: 53 km\n",
            "\n",
            "--- Dispatch Summary ---\n",
            "Total estimated travel distance: 75 km\n"
          ]
        }
      ]
    }
  ]
}